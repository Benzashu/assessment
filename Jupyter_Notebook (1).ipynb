{
 "cells": [
  {
   "cell_type": "markdown",
   "metadata": {},
   "source": [
    "<center>\n",
    "    <img src=\"https://cf-courses-data.s3.us.cloud-object-storage.appdomain.cloud/IBMDeveloperSkillsNetwork-DS0105EN-SkillsNetwork/labs/Module2/images/SN_web_lightmode.png\" width=\"300\" alt=\"cognitiveclass.ai logo\">\n",
    "</center>\n"
   ]
  },
  {
   "cell_type": "markdown",
   "metadata": {},
   "source": [
    "#### Add your code below following the instructions given in the course\n"
   ]
  },
  {
   "cell_type": "code",
   "execution_count": 1,
   "metadata": {
    "tags": []
   },
   "outputs": [],
   "source": [
    "from IPython.display import display, Markdown"
   ]
  },
  {
   "cell_type": "code",
   "execution_count": 2,
   "metadata": {
    "tags": []
   },
   "outputs": [
    {
     "data": {
      "text/markdown": [
       "# Data Science Tools and Ecosystem"
      ],
      "text/plain": [
       "<IPython.core.display.Markdown object>"
      ]
     },
     "metadata": {},
     "output_type": "display_data"
    }
   ],
   "source": [
    "display(Markdown('# Data Science Tools and Ecosystem'))"
   ]
  },
  {
   "cell_type": "markdown",
   "metadata": {},
   "source": [
    "In this notebook, Data Science Tools and Ecosystem are summarized."
   ]
  },
  {
   "cell_type": "markdown",
   "metadata": {},
   "source": [
    "Some of the popular languages that Data Scientists use are:\n",
    "Python: Widely regarded as the leading language for data science due to its simplicity and the vast array of data science libraries and frameworks it supports. Key libraries include NumPy for numerical computing, pandas for data manipulation, scikit-learn for machine learning, and TensorFlow and PyTorch for deep learning.\n",
    "\n",
    "R: Especially popular among statisticians and data miners for developing statistical software and data analysis. R is renowned for its data visualization capabilities through libraries like ggplot2 and for its extensive range of packages for statistical analysis.\n",
    "\n",
    "SQL: Essential for data science to extract and manipulate data directly from databases. Understanding SQL is crucial for data scientists to efficiently work with large datasets stored in relational databases, allowing for effective data querying, retrieval, and manipulation."
   ]
  },
  {
   "cell_type": "markdown",
   "metadata": {},
   "source": [
    "## Some of the commonly used libraries used by Data Scientists include:\n",
    "1. **Pandas**: A library for data manipulation and analysis. It offers data structures and operations for manipulating numerical tables and time series, making it indispensable for data cleaning, filtering, and aggregation.\n",
    "\n",
    "2. **NumPy**: Essential for scientific computing with Python. It provides support for large, multi-dimensional arrays and matrices, along with a collection of mathematical functions to operate on these arrays, which is crucial for numerical computations.\n",
    "\n",
    "3. **Scikit-learn**: A machine learning library for Python. It features various classification, regression, and clustering algorithms, including support vector machines, random forests, gradient boosting, k-means, and DBSCAN, and is designed to interoperate with NumPy and Pandas.\n"
   ]
  },
  {
   "cell_type": "markdown",
   "metadata": {},
   "source": [
    "| Data Science Tools |\n",
    "|--------------------|\n",
    "| Jupyter Notebooks  |\n",
    "| RStudio            |\n",
    "| VS Code with Python extension |\n"
   ]
  },
  {
   "cell_type": "markdown",
   "metadata": {},
   "source": [
    "# Introducing arithmetic expression examples\n",
    "### Below are a few examples of evaluating arithmetic expressions in Python\n",
    "\n",
    "- **Addition**: `5 + 3` evaluates to `8`.\n",
    "- **Subtraction**: `10 - 2` evaluates to `8`.\n",
    "- **Multiplication**: `4 * 2` evaluates to `8`.\n",
    "- **Division**: `16 / 2` evaluates to `8`.\n",
    "- **Exponentiation**: `2 ** 3` evaluates to `8`.\n",
    "- **Modulus**: `10 % 2` evaluates to `0` (remainder of the division).\n",
    "- **Floor Division**: `17 // 2` evaluates to `8` (the division result without the remainder).\n"
   ]
  },
  {
   "cell_type": "code",
   "execution_count": 4,
   "metadata": {
    "tags": []
   },
   "outputs": [
    {
     "data": {
      "text/plain": [
       "17"
      ]
     },
     "execution_count": 4,
     "metadata": {},
     "output_type": "execute_result"
    }
   ],
   "source": [
    "# This a simple arithmetic expression to mutiply then add integers\n",
    "(3*4)+5"
   ]
  },
  {
   "cell_type": "code",
   "execution_count": 5,
   "metadata": {
    "tags": []
   },
   "outputs": [
    {
     "name": "stdout",
     "output_type": "stream",
     "text": [
      "3.3333333333333335\n"
     ]
    }
   ],
   "source": [
    "# This will convert 200 minutes to hours by dividing by 60\n",
    "hours = 200 / 60\n",
    "print(hours)\n"
   ]
  },
  {
   "cell_type": "markdown",
   "metadata": {},
   "source": [
    "## Author\n",
    "Your Name\n"
   ]
  }
 ],
 "metadata": {
  "kernelspec": {
   "display_name": "Python",
   "language": "python",
   "name": "conda-env-python-py"
  },
  "language_info": {
   "codemirror_mode": {
    "name": "ipython",
    "version": 3
   },
   "file_extension": ".py",
   "mimetype": "text/x-python",
   "name": "python",
   "nbconvert_exporter": "python",
   "pygments_lexer": "ipython3",
   "version": "3.7.12"
  }
 },
 "nbformat": 4,
 "nbformat_minor": 4
}
